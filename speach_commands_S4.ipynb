{
 "cells": [
  {
   "cell_type": "code",
   "execution_count": 4,
   "id": "eb34a89b",
   "metadata": {},
   "outputs": [
    {
     "name": "stdout",
     "output_type": "stream",
     "text": [
      "Defaulting to user installation because normal site-packages is not writeable\n",
      "Requirement already satisfied: torchaudio in /usr4/dl523/dgordon/.local/lib/python3.8/site-packages (2.0.2)\n",
      "Requirement already satisfied: torch==2.0.1 in /usr4/dl523/dgordon/.local/lib/python3.8/site-packages (from torchaudio) (2.0.1)\n",
      "Requirement already satisfied: nvidia-cusparse-cu11==11.7.4.91 in /usr4/dl523/dgordon/.local/lib/python3.8/site-packages (from torch==2.0.1->torchaudio) (11.7.4.91)\n",
      "Requirement already satisfied: nvidia-nccl-cu11==2.14.3 in /usr4/dl523/dgordon/.local/lib/python3.8/site-packages (from torch==2.0.1->torchaudio) (2.14.3)\n",
      "Requirement already satisfied: nvidia-cuda-nvrtc-cu11==11.7.99 in /usr4/dl523/dgordon/.local/lib/python3.8/site-packages (from torch==2.0.1->torchaudio) (11.7.99)\n",
      "Requirement already satisfied: nvidia-curand-cu11==10.2.10.91 in /usr4/dl523/dgordon/.local/lib/python3.8/site-packages (from torch==2.0.1->torchaudio) (10.2.10.91)\n",
      "Requirement already satisfied: nvidia-cuda-cupti-cu11==11.7.101 in /usr4/dl523/dgordon/.local/lib/python3.8/site-packages (from torch==2.0.1->torchaudio) (11.7.101)\n",
      "Requirement already satisfied: nvidia-cudnn-cu11==8.5.0.96 in /usr4/dl523/dgordon/.local/lib/python3.8/site-packages (from torch==2.0.1->torchaudio) (8.5.0.96)\n",
      "Requirement already satisfied: filelock in /share/pkg.7/python3/3.8.10/install/lib/python3.8/site-packages (from torch==2.0.1->torchaudio) (3.0.12)\n",
      "Requirement already satisfied: jinja2 in /share/pkg.7/python3/3.8.10/install/lib/python3.8/site-packages (from torch==2.0.1->torchaudio) (2.11.3)\n",
      "Requirement already satisfied: nvidia-cublas-cu11==11.10.3.66 in /usr4/dl523/dgordon/.local/lib/python3.8/site-packages (from torch==2.0.1->torchaudio) (11.10.3.66)\n",
      "Requirement already satisfied: nvidia-cusolver-cu11==11.4.0.1 in /usr4/dl523/dgordon/.local/lib/python3.8/site-packages (from torch==2.0.1->torchaudio) (11.4.0.1)\n",
      "Requirement already satisfied: networkx in /share/pkg.7/python3/3.8.10/install/lib/python3.8/site-packages (from torch==2.0.1->torchaudio) (2.5.1)\n",
      "Requirement already satisfied: triton==2.0.0 in /usr4/dl523/dgordon/.local/lib/python3.8/site-packages (from torch==2.0.1->torchaudio) (2.0.0)\n",
      "Requirement already satisfied: nvidia-cuda-runtime-cu11==11.7.99 in /usr4/dl523/dgordon/.local/lib/python3.8/site-packages (from torch==2.0.1->torchaudio) (11.7.99)\n",
      "Requirement already satisfied: sympy in /share/pkg.7/python3/3.8.10/install/lib/python3.8/site-packages (from torch==2.0.1->torchaudio) (1.8)\n",
      "Requirement already satisfied: nvidia-cufft-cu11==10.9.0.58 in /usr4/dl523/dgordon/.local/lib/python3.8/site-packages (from torch==2.0.1->torchaudio) (10.9.0.58)\n",
      "Requirement already satisfied: nvidia-nvtx-cu11==11.7.91 in /usr4/dl523/dgordon/.local/lib/python3.8/site-packages (from torch==2.0.1->torchaudio) (11.7.91)\n",
      "Requirement already satisfied: typing-extensions in /usr4/dl523/dgordon/.local/lib/python3.8/site-packages (from torch==2.0.1->torchaudio) (4.4.0)\n",
      "Requirement already satisfied: wheel in /share/pkg.7/python3/3.8.10/install/lib/python3.8/site-packages (from nvidia-cublas-cu11==11.10.3.66->torch==2.0.1->torchaudio) (0.36.2)\n",
      "Requirement already satisfied: setuptools in /share/pkg.7/python3/3.8.10/install/lib/python3.8/site-packages (from nvidia-cublas-cu11==11.10.3.66->torch==2.0.1->torchaudio) (56.0.0)\n",
      "Requirement already satisfied: cmake in /usr4/dl523/dgordon/.local/lib/python3.8/site-packages (from triton==2.0.0->torch==2.0.1->torchaudio) (3.26.3)\n",
      "Requirement already satisfied: lit in /usr4/dl523/dgordon/.local/lib/python3.8/site-packages (from triton==2.0.0->torch==2.0.1->torchaudio) (16.0.5.post0)\n",
      "Requirement already satisfied: MarkupSafe>=0.23 in /share/pkg.7/python3/3.8.10/install/lib/python3.8/site-packages (from jinja2->torch==2.0.1->torchaudio) (1.1.1)\n",
      "Requirement already satisfied: decorator<5,>=4.3 in /share/pkg.7/python3/3.8.10/install/lib/python3.8/site-packages (from networkx->torch==2.0.1->torchaudio) (4.4.2)\n",
      "Requirement already satisfied: mpmath>=0.19 in /share/pkg.7/python3/3.8.10/install/lib/python3.8/site-packages (from sympy->torch==2.0.1->torchaudio) (1.2.1)\n",
      "\u001b[33mWARNING: You are using pip version 21.1.1; however, version 23.1.2 is available.\n",
      "You should consider upgrading via the '/share/pkg.7/python3/3.8.10/install/bin/python3.8 -m pip install --upgrade pip' command.\u001b[0m\n",
      "Defaulting to user installation because normal site-packages is not writeable\n",
      "Requirement already satisfied: torchvision in /usr4/dl523/dgordon/.local/lib/python3.8/site-packages (0.15.2)\n",
      "Requirement already satisfied: torch==2.0.1 in /usr4/dl523/dgordon/.local/lib/python3.8/site-packages (from torchvision) (2.0.1)\n",
      "Requirement already satisfied: requests in /share/pkg.7/python3/3.8.10/install/lib/python3.8/site-packages (from torchvision) (2.25.1)\n",
      "Requirement already satisfied: numpy in /share/pkg.7/python3/3.8.10/install/lib/python3.8/site-packages/numpy-1.19.5-py3.8-linux-x86_64.egg (from torchvision) (1.19.5)\n",
      "Requirement already satisfied: pillow!=8.3.*,>=5.3.0 in /share/pkg.7/python3/3.8.10/install/lib/python3.8/site-packages (from torchvision) (7.2.0)\n",
      "Requirement already satisfied: nvidia-cufft-cu11==10.9.0.58 in /usr4/dl523/dgordon/.local/lib/python3.8/site-packages (from torch==2.0.1->torchvision) (10.9.0.58)\n",
      "Requirement already satisfied: nvidia-cuda-cupti-cu11==11.7.101 in /usr4/dl523/dgordon/.local/lib/python3.8/site-packages (from torch==2.0.1->torchvision) (11.7.101)\n",
      "Requirement already satisfied: nvidia-cuda-runtime-cu11==11.7.99 in /usr4/dl523/dgordon/.local/lib/python3.8/site-packages (from torch==2.0.1->torchvision) (11.7.99)\n",
      "Requirement already satisfied: filelock in /share/pkg.7/python3/3.8.10/install/lib/python3.8/site-packages (from torch==2.0.1->torchvision) (3.0.12)\n",
      "Requirement already satisfied: nvidia-curand-cu11==10.2.10.91 in /usr4/dl523/dgordon/.local/lib/python3.8/site-packages (from torch==2.0.1->torchvision) (10.2.10.91)\n",
      "Requirement already satisfied: nvidia-cuda-nvrtc-cu11==11.7.99 in /usr4/dl523/dgordon/.local/lib/python3.8/site-packages (from torch==2.0.1->torchvision) (11.7.99)\n",
      "Requirement already satisfied: nvidia-cusparse-cu11==11.7.4.91 in /usr4/dl523/dgordon/.local/lib/python3.8/site-packages (from torch==2.0.1->torchvision) (11.7.4.91)\n",
      "Requirement already satisfied: typing-extensions in /usr4/dl523/dgordon/.local/lib/python3.8/site-packages (from torch==2.0.1->torchvision) (4.4.0)\n",
      "Requirement already satisfied: networkx in /share/pkg.7/python3/3.8.10/install/lib/python3.8/site-packages (from torch==2.0.1->torchvision) (2.5.1)\n",
      "Requirement already satisfied: nvidia-nvtx-cu11==11.7.91 in /usr4/dl523/dgordon/.local/lib/python3.8/site-packages (from torch==2.0.1->torchvision) (11.7.91)\n",
      "Requirement already satisfied: nvidia-cusolver-cu11==11.4.0.1 in /usr4/dl523/dgordon/.local/lib/python3.8/site-packages (from torch==2.0.1->torchvision) (11.4.0.1)\n",
      "Requirement already satisfied: jinja2 in /share/pkg.7/python3/3.8.10/install/lib/python3.8/site-packages (from torch==2.0.1->torchvision) (2.11.3)\n",
      "Requirement already satisfied: nvidia-cublas-cu11==11.10.3.66 in /usr4/dl523/dgordon/.local/lib/python3.8/site-packages (from torch==2.0.1->torchvision) (11.10.3.66)\n",
      "Requirement already satisfied: nvidia-nccl-cu11==2.14.3 in /usr4/dl523/dgordon/.local/lib/python3.8/site-packages (from torch==2.0.1->torchvision) (2.14.3)\n",
      "Requirement already satisfied: nvidia-cudnn-cu11==8.5.0.96 in /usr4/dl523/dgordon/.local/lib/python3.8/site-packages (from torch==2.0.1->torchvision) (8.5.0.96)\n",
      "Requirement already satisfied: triton==2.0.0 in /usr4/dl523/dgordon/.local/lib/python3.8/site-packages (from torch==2.0.1->torchvision) (2.0.0)\n",
      "Requirement already satisfied: sympy in /share/pkg.7/python3/3.8.10/install/lib/python3.8/site-packages (from torch==2.0.1->torchvision) (1.8)\n",
      "Requirement already satisfied: setuptools in /share/pkg.7/python3/3.8.10/install/lib/python3.8/site-packages (from nvidia-cublas-cu11==11.10.3.66->torch==2.0.1->torchvision) (56.0.0)\n",
      "Requirement already satisfied: wheel in /share/pkg.7/python3/3.8.10/install/lib/python3.8/site-packages (from nvidia-cublas-cu11==11.10.3.66->torch==2.0.1->torchvision) (0.36.2)\n",
      "Requirement already satisfied: lit in /usr4/dl523/dgordon/.local/lib/python3.8/site-packages (from triton==2.0.0->torch==2.0.1->torchvision) (16.0.5.post0)\n",
      "Requirement already satisfied: cmake in /usr4/dl523/dgordon/.local/lib/python3.8/site-packages (from triton==2.0.0->torch==2.0.1->torchvision) (3.26.3)\n",
      "Requirement already satisfied: MarkupSafe>=0.23 in /share/pkg.7/python3/3.8.10/install/lib/python3.8/site-packages (from jinja2->torch==2.0.1->torchvision) (1.1.1)\n"
     ]
    },
    {
     "name": "stdout",
     "output_type": "stream",
     "text": [
      "Requirement already satisfied: decorator<5,>=4.3 in /share/pkg.7/python3/3.8.10/install/lib/python3.8/site-packages (from networkx->torch==2.0.1->torchvision) (4.4.2)\n",
      "Requirement already satisfied: idna<3,>=2.5 in /share/pkg.7/python3/3.8.10/install/lib/python3.8/site-packages (from requests->torchvision) (2.10)\n",
      "Requirement already satisfied: urllib3<1.27,>=1.21.1 in /share/pkg.7/python3/3.8.10/install/lib/python3.8/site-packages (from requests->torchvision) (1.26.4)\n",
      "Requirement already satisfied: chardet<5,>=3.0.2 in /share/pkg.7/python3/3.8.10/install/lib/python3.8/site-packages (from requests->torchvision) (4.0.0)\n",
      "Requirement already satisfied: certifi>=2017.4.17 in /share/pkg.7/python3/3.8.10/install/lib/python3.8/site-packages (from requests->torchvision) (2020.12.5)\n",
      "Requirement already satisfied: mpmath>=0.19 in /share/pkg.7/python3/3.8.10/install/lib/python3.8/site-packages (from sympy->torch==2.0.1->torchvision) (1.2.1)\n",
      "\u001b[33mWARNING: You are using pip version 21.1.1; however, version 23.1.2 is available.\n",
      "You should consider upgrading via the '/share/pkg.7/python3/3.8.10/install/bin/python3.8 -m pip install --upgrade pip' command.\u001b[0m\n",
      "Defaulting to user installation because normal site-packages is not writeable\n",
      "Requirement already satisfied: pytorch_lightning in /usr4/dl523/dgordon/.local/lib/python3.8/site-packages (2.0.3)\n",
      "Requirement already satisfied: fsspec[http]>2021.06.0 in /usr4/dl523/dgordon/.local/lib/python3.8/site-packages (from pytorch_lightning) (2023.6.0)\n",
      "Requirement already satisfied: typing-extensions>=4.0.0 in /usr4/dl523/dgordon/.local/lib/python3.8/site-packages (from pytorch_lightning) (4.4.0)\n",
      "Requirement already satisfied: torchmetrics>=0.7.0 in /usr4/dl523/dgordon/.local/lib/python3.8/site-packages (from pytorch_lightning) (0.11.4)\n",
      "Requirement already satisfied: PyYAML>=5.4 in /share/pkg.7/python3/3.8.10/install/lib/python3.8/site-packages (from pytorch_lightning) (5.4.1)\n",
      "Requirement already satisfied: torch>=1.11.0 in /usr4/dl523/dgordon/.local/lib/python3.8/site-packages (from pytorch_lightning) (2.0.1)\n",
      "Requirement already satisfied: packaging>=17.1 in /share/pkg.7/python3/3.8.10/install/lib/python3.8/site-packages (from pytorch_lightning) (20.9)\n",
      "Requirement already satisfied: lightning-utilities>=0.7.0 in /usr4/dl523/dgordon/.local/lib/python3.8/site-packages (from pytorch_lightning) (0.8.0)\n",
      "Requirement already satisfied: numpy>=1.17.2 in /share/pkg.7/python3/3.8.10/install/lib/python3.8/site-packages/numpy-1.19.5-py3.8-linux-x86_64.egg (from pytorch_lightning) (1.19.5)\n",
      "Requirement already satisfied: tqdm>=4.57.0 in /share/pkg.7/python3/3.8.10/install/lib/python3.8/site-packages (from pytorch_lightning) (4.60.0)\n",
      "Requirement already satisfied: aiohttp!=4.0.0a0,!=4.0.0a1 in /share/pkg.7/python3/3.8.10/install/lib/python3.8/site-packages (from fsspec[http]>2021.06.0->pytorch_lightning) (3.7.4.post0)\n",
      "Requirement already satisfied: requests in /share/pkg.7/python3/3.8.10/install/lib/python3.8/site-packages (from fsspec[http]>2021.06.0->pytorch_lightning) (2.25.1)\n",
      "Requirement already satisfied: attrs>=17.3.0 in /share/pkg.7/python3/3.8.10/install/lib/python3.8/site-packages (from aiohttp!=4.0.0a0,!=4.0.0a1->fsspec[http]>2021.06.0->pytorch_lightning) (20.3.0)\n",
      "Requirement already satisfied: async-timeout<4.0,>=3.0 in /share/pkg.7/python3/3.8.10/install/lib/python3.8/site-packages (from aiohttp!=4.0.0a0,!=4.0.0a1->fsspec[http]>2021.06.0->pytorch_lightning) (3.0.1)\n",
      "Requirement already satisfied: multidict<7.0,>=4.5 in /share/pkg.7/python3/3.8.10/install/lib/python3.8/site-packages (from aiohttp!=4.0.0a0,!=4.0.0a1->fsspec[http]>2021.06.0->pytorch_lightning) (5.1.0)\n",
      "Requirement already satisfied: yarl<2.0,>=1.0 in /share/pkg.7/python3/3.8.10/install/lib/python3.8/site-packages (from aiohttp!=4.0.0a0,!=4.0.0a1->fsspec[http]>2021.06.0->pytorch_lightning) (1.6.3)\n",
      "Requirement already satisfied: chardet<5.0,>=2.0 in /share/pkg.7/python3/3.8.10/install/lib/python3.8/site-packages (from aiohttp!=4.0.0a0,!=4.0.0a1->fsspec[http]>2021.06.0->pytorch_lightning) (4.0.0)\n",
      "Requirement already satisfied: pyparsing>=2.0.2 in /share/pkg.7/python3/3.8.10/install/lib/python3.8/site-packages (from packaging>=17.1->pytorch_lightning) (2.4.7)\n",
      "Requirement already satisfied: networkx in /share/pkg.7/python3/3.8.10/install/lib/python3.8/site-packages (from torch>=1.11.0->pytorch_lightning) (2.5.1)\n",
      "Requirement already satisfied: nvidia-cuda-runtime-cu11==11.7.99 in /usr4/dl523/dgordon/.local/lib/python3.8/site-packages (from torch>=1.11.0->pytorch_lightning) (11.7.99)\n",
      "Requirement already satisfied: nvidia-cuda-cupti-cu11==11.7.101 in /usr4/dl523/dgordon/.local/lib/python3.8/site-packages (from torch>=1.11.0->pytorch_lightning) (11.7.101)\n",
      "Requirement already satisfied: filelock in /share/pkg.7/python3/3.8.10/install/lib/python3.8/site-packages (from torch>=1.11.0->pytorch_lightning) (3.0.12)\n",
      "Requirement already satisfied: nvidia-cufft-cu11==10.9.0.58 in /usr4/dl523/dgordon/.local/lib/python3.8/site-packages (from torch>=1.11.0->pytorch_lightning) (10.9.0.58)\n",
      "Requirement already satisfied: nvidia-cusolver-cu11==11.4.0.1 in /usr4/dl523/dgordon/.local/lib/python3.8/site-packages (from torch>=1.11.0->pytorch_lightning) (11.4.0.1)\n",
      "Requirement already satisfied: nvidia-nccl-cu11==2.14.3 in /usr4/dl523/dgordon/.local/lib/python3.8/site-packages (from torch>=1.11.0->pytorch_lightning) (2.14.3)\n",
      "Requirement already satisfied: nvidia-cudnn-cu11==8.5.0.96 in /usr4/dl523/dgordon/.local/lib/python3.8/site-packages (from torch>=1.11.0->pytorch_lightning) (8.5.0.96)\n",
      "Requirement already satisfied: nvidia-nvtx-cu11==11.7.91 in /usr4/dl523/dgordon/.local/lib/python3.8/site-packages (from torch>=1.11.0->pytorch_lightning) (11.7.91)\n",
      "Requirement already satisfied: nvidia-cusparse-cu11==11.7.4.91 in /usr4/dl523/dgordon/.local/lib/python3.8/site-packages (from torch>=1.11.0->pytorch_lightning) (11.7.4.91)\n",
      "Requirement already satisfied: nvidia-curand-cu11==10.2.10.91 in /usr4/dl523/dgordon/.local/lib/python3.8/site-packages (from torch>=1.11.0->pytorch_lightning) (10.2.10.91)\n",
      "Requirement already satisfied: nvidia-cublas-cu11==11.10.3.66 in /usr4/dl523/dgordon/.local/lib/python3.8/site-packages (from torch>=1.11.0->pytorch_lightning) (11.10.3.66)\n",
      "Requirement already satisfied: sympy in /share/pkg.7/python3/3.8.10/install/lib/python3.8/site-packages (from torch>=1.11.0->pytorch_lightning) (1.8)\n",
      "Requirement already satisfied: jinja2 in /share/pkg.7/python3/3.8.10/install/lib/python3.8/site-packages (from torch>=1.11.0->pytorch_lightning) (2.11.3)\n",
      "Requirement already satisfied: nvidia-cuda-nvrtc-cu11==11.7.99 in /usr4/dl523/dgordon/.local/lib/python3.8/site-packages (from torch>=1.11.0->pytorch_lightning) (11.7.99)\n",
      "Requirement already satisfied: triton==2.0.0 in /usr4/dl523/dgordon/.local/lib/python3.8/site-packages (from torch>=1.11.0->pytorch_lightning) (2.0.0)\n",
      "Requirement already satisfied: setuptools in /share/pkg.7/python3/3.8.10/install/lib/python3.8/site-packages (from nvidia-cublas-cu11==11.10.3.66->torch>=1.11.0->pytorch_lightning) (56.0.0)\n",
      "Requirement already satisfied: wheel in /share/pkg.7/python3/3.8.10/install/lib/python3.8/site-packages (from nvidia-cublas-cu11==11.10.3.66->torch>=1.11.0->pytorch_lightning) (0.36.2)\n",
      "Requirement already satisfied: lit in /usr4/dl523/dgordon/.local/lib/python3.8/site-packages (from triton==2.0.0->torch>=1.11.0->pytorch_lightning) (16.0.5.post0)\n",
      "Requirement already satisfied: cmake in /usr4/dl523/dgordon/.local/lib/python3.8/site-packages (from triton==2.0.0->torch>=1.11.0->pytorch_lightning) (3.26.3)\n",
      "Requirement already satisfied: idna>=2.0 in /share/pkg.7/python3/3.8.10/install/lib/python3.8/site-packages (from yarl<2.0,>=1.0->aiohttp!=4.0.0a0,!=4.0.0a1->fsspec[http]>2021.06.0->pytorch_lightning) (2.10)\n",
      "Requirement already satisfied: MarkupSafe>=0.23 in /share/pkg.7/python3/3.8.10/install/lib/python3.8/site-packages (from jinja2->torch>=1.11.0->pytorch_lightning) (1.1.1)\n",
      "Requirement already satisfied: decorator<5,>=4.3 in /share/pkg.7/python3/3.8.10/install/lib/python3.8/site-packages (from networkx->torch>=1.11.0->pytorch_lightning) (4.4.2)\n",
      "Requirement already satisfied: urllib3<1.27,>=1.21.1 in /share/pkg.7/python3/3.8.10/install/lib/python3.8/site-packages (from requests->fsspec[http]>2021.06.0->pytorch_lightning) (1.26.4)\n",
      "Requirement already satisfied: certifi>=2017.4.17 in /share/pkg.7/python3/3.8.10/install/lib/python3.8/site-packages (from requests->fsspec[http]>2021.06.0->pytorch_lightning) (2020.12.5)\n",
      "Requirement already satisfied: mpmath>=0.19 in /share/pkg.7/python3/3.8.10/install/lib/python3.8/site-packages (from sympy->torch>=1.11.0->pytorch_lightning) (1.2.1)\n"
     ]
    },
    {
     "name": "stdout",
     "output_type": "stream",
     "text": [
      "\u001b[33mWARNING: You are using pip version 21.1.1; however, version 23.1.2 is available.\n",
      "You should consider upgrading via the '/share/pkg.7/python3/3.8.10/install/bin/python3.8 -m pip install --upgrade pip' command.\u001b[0m\n",
      "Defaulting to user installation because normal site-packages is not writeable\n",
      "Requirement already satisfied: typing_extensions==4.4.0 in /usr4/dl523/dgordon/.local/lib/python3.8/site-packages (4.4.0)\n",
      "\u001b[33mWARNING: You are using pip version 21.1.1; however, version 23.1.2 is available.\n",
      "You should consider upgrading via the '/share/pkg.7/python3/3.8.10/install/bin/python3.8 -m pip install --upgrade pip' command.\u001b[0m\n",
      "Defaulting to user installation because normal site-packages is not writeable\n",
      "Requirement already satisfied: einops in /usr4/dl523/dgordon/.local/lib/python3.8/site-packages (0.6.1)\n",
      "\u001b[33mWARNING: You are using pip version 21.1.1; however, version 23.1.2 is available.\n",
      "You should consider upgrading via the '/share/pkg.7/python3/3.8.10/install/bin/python3.8 -m pip install --upgrade pip' command.\u001b[0m\n"
     ]
    }
   ],
   "source": [
    "##Getting the dataset\n",
    "#https://pytorch.org/tutorials/intermediate/speech_command_classification_with_torchaudio_tutorial.html\n",
    "\n",
    "!pip install torchaudio\n",
    "!pip install torchvision\n",
    "!pip install pytorch_lightning\n",
    "!pip install typing_extensions==4.4.0\n",
    "\n",
    "import typing_extensions\n",
    "from importlib import reload\n",
    "reload(typing_extensions)\n",
    "\n",
    "!pip install einops"
   ]
  },
  {
   "cell_type": "code",
   "execution_count": 5,
   "id": "3fe44ddc",
   "metadata": {},
   "outputs": [],
   "source": [
    "import torch\n",
    "import torch.nn as nn\n",
    "import torch.nn.functional as F\n",
    "import torch.optim as optim\n",
    "import torchaudio\n",
    "import sys\n",
    "\n",
    "import matplotlib.pyplot as plt\n",
    "import IPython.display as ipd\n",
    "\n",
    "from tqdm import tqdm"
   ]
  },
  {
   "cell_type": "code",
   "execution_count": 6,
   "id": "63a0d91c",
   "metadata": {},
   "outputs": [],
   "source": [
    "from torchaudio.datasets import SPEECHCOMMANDS\n",
    "import os"
   ]
  },
  {
   "cell_type": "code",
   "execution_count": 7,
   "id": "af54219b",
   "metadata": {},
   "outputs": [
    {
     "name": "stdout",
     "output_type": "stream",
     "text": [
      "cpu\n"
     ]
    }
   ],
   "source": [
    "device = torch.device(\"cuda\" if torch.cuda.is_available() else \"cpu\")\n",
    "print(device)"
   ]
  },
  {
   "cell_type": "code",
   "execution_count": 8,
   "id": "9f91867d",
   "metadata": {},
   "outputs": [],
   "source": [
    "class SubsetSC(SPEECHCOMMANDS):\n",
    "    def __init__(self, subset: str = None):\n",
    "        super().__init__(\"./\", download=True)\n",
    "\n",
    "        def load_list(filename):\n",
    "            filepath = os.path.join(self._path, filename)\n",
    "            with open(filepath) as fileobj:\n",
    "                return [os.path.normpath(os.path.join(self._path, line.strip())) for line in fileobj]\n",
    "\n",
    "        if subset == \"validation\":\n",
    "            self._walker = load_list(\"validation_list.txt\")\n",
    "        elif subset == \"testing\":\n",
    "            self._walker = load_list(\"testing_list.txt\")\n",
    "        elif subset == \"training\":\n",
    "            excludes = load_list(\"validation_list.txt\") + load_list(\"testing_list.txt\")\n",
    "            excludes = set(excludes)\n",
    "            self._walker = [w for w in self._walker if w not in excludes]"
   ]
  },
  {
   "cell_type": "code",
   "execution_count": 9,
   "id": "de61ca6c",
   "metadata": {},
   "outputs": [],
   "source": [
    "# Create training and testing split of the data. We do not use validation in this tutorial.\n",
    "train_set = SubsetSC(\"training\")\n",
    "test_set = SubsetSC(\"testing\")\n",
    "\n",
    "waveform, sample_rate, label, speaker_id, utterance_number = train_set[0]"
   ]
  },
  {
   "cell_type": "code",
   "execution_count": 18,
   "id": "af2d33e9",
   "metadata": {},
   "outputs": [
    {
     "data": {
      "text/plain": [
       "torch.Size([1, 16000])"
      ]
     },
     "execution_count": 18,
     "metadata": {},
     "output_type": "execute_result"
    }
   ],
   "source": [
    "train_set[0][0].shape"
   ]
  },
  {
   "cell_type": "code",
   "execution_count": 11,
   "id": "8c6af449",
   "metadata": {},
   "outputs": [
    {
     "name": "stdout",
     "output_type": "stream",
     "text": [
      "Shape of waveform: torch.Size([1, 16000])\n",
      "Sample rate of waveform: 16000\n"
     ]
    },
    {
     "data": {
      "image/png": "[encoded data removed]",
      "text/plain": [
       "<Figure size 432x288 with 1 Axes>"
      ]
     },
     "metadata": {
      "needs_background": "light"
     },
     "output_type": "display_data"
    }
   ],
   "source": [
    "print(\"Shape of waveform: {}\".format(waveform.size()))\n",
    "print(\"Sample rate of waveform: {}\".format(sample_rate))\n",
    "\n",
    "plt.plot(waveform.t().numpy());"
   ]
  },
  {
   "cell_type": "code",
   "execution_count": 26,
   "id": "51936898",
   "metadata": {},
   "outputs": [
    {
     "data": {
      "text/plain": [
       "['backward',\n",
       " 'bed',\n",
       " 'bird',\n",
       " 'cat',\n",
       " 'dog',\n",
       " 'down',\n",
       " 'eight',\n",
       " 'five',\n",
       " 'follow',\n",
       " 'forward',\n",
       " 'four',\n",
       " 'go',\n",
       " 'happy',\n",
       " 'house',\n",
       " 'learn',\n",
       " 'left',\n",
       " 'marvin',\n",
       " 'nine',\n",
       " 'no',\n",
       " 'off',\n",
       " 'on',\n",
       " 'one',\n",
       " 'right',\n",
       " 'seven',\n",
       " 'sheila',\n",
       " 'six',\n",
       " 'stop',\n",
       " 'three',\n",
       " 'tree',\n",
       " 'two',\n",
       " 'up',\n",
       " 'visual',\n",
       " 'wow',\n",
       " 'yes',\n",
       " 'zero']"
      ]
     },
     "execution_count": 26,
     "metadata": {},
     "output_type": "execute_result"
    }
   ],
   "source": [
    "labels = sorted(list(set(datapoint[2] for datapoint in train_set)))\n",
    "labels\n",
    "#lets load this differently.  this is stupid."
   ]
  },
  {
   "cell_type": "code",
   "execution_count": 21,
   "id": "3ca54ccd",
   "metadata": {},
   "outputs": [
    {
     "data": {
      "text/html": [
       "\n",
       "                <audio  controls=\"controls\" >\n",
       "                    <source src=\"data:audio/wav;base64,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\" type=\"audio/wav\" />\n",
       "                    Your browser does not support the audio element.\n",
       "                </audio>\n",
       "              "
      ],
      "text/plain": [
       "<IPython.lib.display.Audio object>"
      ]
     },
     "execution_count": 21,
     "metadata": {},
     "output_type": "execute_result"
    }
   ],
   "source": [
    "id = 14\n",
    "waveform_s, *_ = train_set[id]\n",
    "ipd.Audio(waveform_s.numpy(), rate=sample_rate)\n"
   ]
  },
  {
   "cell_type": "code",
   "execution_count": null,
   "id": "6b67640c",
   "metadata": {},
   "outputs": [],
   "source": [
    "####DOWNSAMPLING.  only for messing, not for reporting\n",
    "####CUIDADO baby\n",
    "new_sample_rate = 8000\n",
    "transform = torchaudio.transforms.Resample(orig_freq=sample_rate, new_freq=new_sample_rate)\n",
    "transformed = transform(waveform)\n",
    "\n",
    "ipd.Audio(transformed.numpy(), rate=new_sample_rate)"
   ]
  },
  {
   "cell_type": "code",
   "execution_count": 22,
   "id": "0bc90c37",
   "metadata": {},
   "outputs": [
    {
     "ename": "NameError",
     "evalue": "name 'labels' is not defined",
     "output_type": "error",
     "traceback": [
      "\u001b[0;31m---------------------------------------------------------------------------\u001b[0m",
      "\u001b[0;31mNameError\u001b[0m                                 Traceback (most recent call last)",
      "\u001b[0;32m<ipython-input-22-a85611d8c47c>\u001b[0m in \u001b[0;36m<module>\u001b[0;34m\u001b[0m\n\u001b[1;32m     11\u001b[0m \u001b[0;34m\u001b[0m\u001b[0m\n\u001b[1;32m     12\u001b[0m \u001b[0mword_start\u001b[0m \u001b[0;34m=\u001b[0m \u001b[0;34m\"yes\"\u001b[0m\u001b[0;34m\u001b[0m\u001b[0;34m\u001b[0m\u001b[0m\n\u001b[0;32m---> 13\u001b[0;31m \u001b[0mindex\u001b[0m \u001b[0;34m=\u001b[0m \u001b[0mlabel_to_index\u001b[0m\u001b[0;34m(\u001b[0m\u001b[0mword_start\u001b[0m\u001b[0;34m)\u001b[0m\u001b[0;34m\u001b[0m\u001b[0;34m\u001b[0m\u001b[0m\n\u001b[0m\u001b[1;32m     14\u001b[0m \u001b[0mword_recovered\u001b[0m \u001b[0;34m=\u001b[0m \u001b[0mindex_to_label\u001b[0m\u001b[0;34m(\u001b[0m\u001b[0mindex\u001b[0m\u001b[0;34m)\u001b[0m\u001b[0;34m\u001b[0m\u001b[0;34m\u001b[0m\u001b[0m\n\u001b[1;32m     15\u001b[0m \u001b[0;34m\u001b[0m\u001b[0m\n",
      "\u001b[0;32m<ipython-input-22-a85611d8c47c>\u001b[0m in \u001b[0;36mlabel_to_index\u001b[0;34m(word)\u001b[0m\n\u001b[1;32m      1\u001b[0m \u001b[0;32mdef\u001b[0m \u001b[0mlabel_to_index\u001b[0m\u001b[0;34m(\u001b[0m\u001b[0mword\u001b[0m\u001b[0;34m)\u001b[0m\u001b[0;34m:\u001b[0m\u001b[0;34m\u001b[0m\u001b[0;34m\u001b[0m\u001b[0m\n\u001b[1;32m      2\u001b[0m     \u001b[0;31m# Return the position of the word in labels\u001b[0m\u001b[0;34m\u001b[0m\u001b[0;34m\u001b[0m\u001b[0;34m\u001b[0m\u001b[0m\n\u001b[0;32m----> 3\u001b[0;31m     \u001b[0;32mreturn\u001b[0m \u001b[0mtorch\u001b[0m\u001b[0;34m.\u001b[0m\u001b[0mtensor\u001b[0m\u001b[0;34m(\u001b[0m\u001b[0mlabels\u001b[0m\u001b[0;34m.\u001b[0m\u001b[0mindex\u001b[0m\u001b[0;34m(\u001b[0m\u001b[0mword\u001b[0m\u001b[0;34m)\u001b[0m\u001b[0;34m)\u001b[0m\u001b[0;34m\u001b[0m\u001b[0;34m\u001b[0m\u001b[0m\n\u001b[0m\u001b[1;32m      4\u001b[0m \u001b[0;34m\u001b[0m\u001b[0m\n\u001b[1;32m      5\u001b[0m \u001b[0;34m\u001b[0m\u001b[0m\n",
      "\u001b[0;31mNameError\u001b[0m: name 'labels' is not defined"
     ]
    }
   ],
   "source": [
    "def label_to_index(word):\n",
    "    # Return the position of the word in labels\n",
    "    return torch.tensor(labels.index(word))\n",
    "\n",
    "\n",
    "def index_to_label(index):\n",
    "    # Return the word corresponding to the index in labels\n",
    "    # This is the inverse of label_to_index\n",
    "    return labels[index]\n",
    "\n",
    "\n",
    "word_start = \"yes\"\n",
    "index = label_to_index(word_start)\n",
    "word_recovered = index_to_label(index)\n",
    "\n",
    "print(word_start, \"-->\", index, \"-->\", word_recovered)"
   ]
  },
  {
   "cell_type": "code",
   "execution_count": 23,
   "id": "d3d6f00f",
   "metadata": {},
   "outputs": [],
   "source": [
    "def pad_sequence(batch):\n",
    "    # Make all tensor in a batch the same length by padding with zeros\n",
    "    batch = [item.t() for item in batch]\n",
    "    batch = torch.nn.utils.rnn.pad_sequence(batch, batch_first=True, padding_value=0.)\n",
    "    return batch.permute(0, 2, 1)\n",
    "\n",
    "\n",
    "def collate_fn(batch):\n",
    "\n",
    "    # A data tuple has the form:\n",
    "    # waveform, sample_rate, label, speaker_id, utterance_number\n",
    "\n",
    "    tensors, targets = [], []\n",
    "\n",
    "    # Gather in lists, and encode labels as indices\n",
    "    for waveform, _, label, *_ in batch:\n",
    "        tensors += [waveform]\n",
    "        targets += [label_to_index(label)]\n",
    "\n",
    "    # Group the list of tensors into a batched tensor\n",
    "    tensors = pad_sequence(tensors)\n",
    "    targets = torch.stack(targets)\n",
    "\n",
    "    return tensors, targets\n",
    "\n",
    "\n",
    "batch_size = 256\n",
    "\n",
    "if device == \"cuda\":\n",
    "    num_workers = 1\n",
    "    pin_memory = True\n",
    "else:\n",
    "    num_workers = 0\n",
    "    pin_memory = False\n",
    "\n",
    "train_loader = torch.utils.data.DataLoader(\n",
    "    train_set,\n",
    "    batch_size=batch_size,\n",
    "    shuffle=True,\n",
    "    collate_fn=collate_fn,\n",
    "    num_workers=num_workers,\n",
    "    pin_memory=pin_memory,\n",
    ")\n",
    "test_loader = torch.utils.data.DataLoader(\n",
    "    test_set,\n",
    "    batch_size=batch_size,\n",
    "    shuffle=False,\n",
    "    drop_last=False,\n",
    "    collate_fn=collate_fn,\n",
    "    num_workers=num_workers,\n",
    "    pin_memory=pin_memory,\n",
    ")"
   ]
  },
  {
   "cell_type": "code",
   "execution_count": 28,
   "id": "47089e2f",
   "metadata": {},
   "outputs": [
    {
     "name": "stderr",
     "output_type": "stream",
     "text": [
      "0it [00:00, ?it/s]"
     ]
    },
    {
     "name": "stdout",
     "output_type": "stream",
     "text": [
      "torch.Size([256, 1, 16000])\n",
      "torch.Size([256, 16000, 1])\n"
     ]
    },
    {
     "name": "stderr",
     "output_type": "stream",
     "text": [
      "\n"
     ]
    }
   ],
   "source": [
    "pbar = tqdm(enumerate(train_loader))\n",
    "for batch_idx, (inputs, targets) in pbar:\n",
    "    print(inputs.shape)\n",
    "    test_in = torch.swapaxes(inputs, 1, 2)\n",
    "    print(test_in.shape)\n",
    "    break"
   ]
  },
  {
   "cell_type": "code",
   "execution_count": null,
   "id": "03c5ba7d",
   "metadata": {},
   "outputs": [],
   "source": [
    "first_input, first_output = None, None\n",
    "for i in train_loader:\n",
    "    first_input, first_output = i\n",
    "    break"
   ]
  },
  {
   "cell_type": "code",
   "execution_count": null,
   "id": "21918e7f",
   "metadata": {},
   "outputs": [],
   "source": [
    "d_input = first_input.shape[1]\n",
    "L = first_input.shape[2]\n",
    "\n",
    "first_input.shape, first_output.shape"
   ]
  },
  {
   "cell_type": "code",
   "execution_count": null,
   "id": "b5505705",
   "metadata": {},
   "outputs": [],
   "source": [
    "def train(model, epoch, log_interval):\n",
    "    model.train()\n",
    "    for batch_idx, (data, target) in enumerate(train_loader):\n",
    "        \n",
    "\"\"\"This is comment from s4 forward:\n",
    "        Input x is shape (B, L, d_input)\n",
    "        \"\"\"      \n"
   ]
  },
  {
   "cell_type": "code",
   "execution_count": null,
   "id": "cf4bfa85",
   "metadata": {},
   "outputs": [],
   "source": [
    "#take example and fix the data import part to take speach commands.  "
   ]
  },
  {
   "cell_type": "code",
   "execution_count": null,
   "id": "49e30d93",
   "metadata": {},
   "outputs": [],
   "source": [
    "!bash key.sh "
   ]
  },
  {
   "cell_type": "code",
   "execution_count": null,
   "id": "5daf21d0",
   "metadata": {},
   "outputs": [],
   "source": [
    "eval \"$(ssh-agent -s)\"\n",
    "ssh-add ../keys/scckey1"
   ]
  },
  {
   "cell_type": "code",
   "execution_count": null,
   "id": "4f0303ea",
   "metadata": {},
   "outputs": [],
   "source": [
    "!git status"
   ]
  },
  {
   "cell_type": "code",
   "execution_count": 19,
   "id": "7723054c",
   "metadata": {},
   "outputs": [
    {
     "name": "stdout",
     "output_type": "stream",
     "text": [
      "CUDA extension for structured kernels (Cauchy and Vandermonde multiplication) not found. Install by going to extensions/kernels/ and running `python setup.py install`, for improved speed and memory efficiency. Note that the kernel changed for state-spaces 4.0 and must be recompiled.\n",
      "Falling back on slow Cauchy and Vandermonde kernel. Install at least one of pykeops or the CUDA extension for better speed and memory efficiency.\n",
      "preparing speechcommands!!\n",
      "splitting train/test/val\n",
      "/project/textconv/dgordon/state-spaces\n",
      "training\n",
      "testing\n",
      "validation\n",
      "generating labels list.  for some reason this takes a while\n",
      "^C\n",
      "Traceback (most recent call last):\n",
      "  File \"/share/pkg.7/python3/3.8.10/install/lib/python3.8/runpy.py\", line 194, in _run_module_as_main\n",
      "    return _run_code(code, main_globals, None,\n",
      "  File \"/share/pkg.7/python3/3.8.10/install/lib/python3.8/runpy.py\", line 87, in _run_code\n",
      "    exec(code, run_globals)\n",
      "  File \"/project/textconv/dgordon/state-spaces/example_sc.py\", line 178, in <module>\n",
      "    labels = sorted(list(set(datapoint[2] for datapoint in trainset)))\n",
      "  File \"/project/textconv/dgordon/state-spaces/example_sc.py\", line 178, in <genexpr>\n",
      "    labels = sorted(list(set(datapoint[2] for datapoint in trainset)))\n",
      "  File \"/usr4/dl523/dgordon/.local/lib/python3.8/site-packages/torchaudio/datasets/speechcommands.py\", line 179, in __getitem__\n",
      "    waveform = _load_waveform(self._archive, metadata[0], metadata[1])\n",
      "  File \"/usr4/dl523/dgordon/.local/lib/python3.8/site-packages/torchaudio/datasets/utils.py\", line 51, in _load_waveform\n",
      "    waveform, sample_rate = torchaudio.load(path)\n",
      "  File \"/usr4/dl523/dgordon/.local/lib/python3.8/site-packages/torchaudio/backend/sox_io_backend.py\", line 251, in load\n",
      "    ret = torch.ops.torchaudio.sox_io_load_audio_file(\n",
      "  File \"/usr4/dl523/dgordon/.local/lib/python3.8/site-packages/torch/_ops.py\", line 502, in __call__\n",
      "    return self._op(*args, **kwargs or {})\n",
      "KeyboardInterrupt\n"
     ]
    }
   ],
   "source": [
    "!python -m example_sc"
   ]
  },
  {
   "cell_type": "code",
   "execution_count": null,
   "id": "72cedfc4",
   "metadata": {},
   "outputs": [],
   "source": []
  }
 ],
 "metadata": {
  "kernelspec": {
   "display_name": "Python 3",
   "language": "python",
   "name": "python3"
  },
  "language_info": {
   "codemirror_mode": {
    "name": "ipython",
    "version": 3
   },
   "file_extension": ".py",
   "mimetype": "text/x-python",
   "name": "python",
   "nbconvert_exporter": "python",
   "pygments_lexer": "ipython3",
   "version": "3.8.10"
  }
 },
 "nbformat": 4,
 "nbformat_minor": 5
}
